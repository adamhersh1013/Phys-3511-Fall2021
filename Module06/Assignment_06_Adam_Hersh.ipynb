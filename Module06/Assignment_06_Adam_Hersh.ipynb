{
 "cells": [
  {
   "cell_type": "markdown",
   "metadata": {},
   "source": [
    "# Assignment 06: Due 10/11\n",
    "\n",
    "In this assignment we will look at some real data from the CMS experiment at the LHC. The LHC makes a lot of its data publically available here: http://opendata.cern.ch. The information about the data set we will be working with at can be found here: http://opendata.cern.ch/record/545"
   ]
  },
  {
   "cell_type": "markdown",
   "metadata": {},
   "source": [
    "## Imports \n",
    "\n",
    "For this assignemnt you will need the following imports"
   ]
  },
  {
   "cell_type": "code",
   "execution_count": 1,
   "metadata": {},
   "outputs": [],
   "source": [
    "import pandas as pd\n",
    "import numpy as np\n",
    "import matplotlib.pyplot as plt\n",
    "from scipy import optimize\n",
    "from scipy.optimize import curve_fit #simpliest scipy fitting method\n",
    "%matplotlib notebook"
   ]
  },
  {
   "cell_type": "markdown",
   "metadata": {},
   "source": [
    "# Problem 1\n",
    "\n",
    "Create a Pandas DataFrame object from the data file *Zee_Run2011A.csv*, located in the *data* dircetroy, and use the *info* function to list the information from the DataFrame."
   ]
  },
  {
   "cell_type": "code",
   "execution_count": 2,
   "metadata": {},
   "outputs": [
    {
     "name": "stdout",
     "output_type": "stream",
     "text": [
      "<class 'pandas.core.frame.DataFrame'>\n",
      "RangeIndex: 18885 entries, 0 to 18884\n",
      "Data columns (total 22 columns):\n",
      "Run             18885 non-null int64\n",
      "Event           18885 non-null int64\n",
      "pt1             18885 non-null float64\n",
      "eta1            18885 non-null float64\n",
      "phi1            18885 non-null float64\n",
      "Q1              18885 non-null int64\n",
      "type1           18885 non-null object\n",
      "sigmaEtaEta1    18885 non-null float64\n",
      "HoverE1         18885 non-null float64\n",
      "isoTrack1       18885 non-null float64\n",
      "isoEcal1        18885 non-null float64\n",
      "isoHcal1        18885 non-null float64\n",
      "pt2             18885 non-null float64\n",
      "eta2            18885 non-null float64\n",
      "phi2            18885 non-null float64\n",
      "Q2              18885 non-null int64\n",
      "type2           18885 non-null object\n",
      "sigmaEtaEta2    18885 non-null float64\n",
      "HoverE2         18885 non-null float64\n",
      "isoTrack2       18885 non-null float64\n",
      "isoEcal2        18885 non-null float64\n",
      "isoHcal2        18885 non-null float64\n",
      "dtypes: float64(16), int64(4), object(2)\n",
      "memory usage: 3.2+ MB\n"
     ]
    }
   ],
   "source": [
    "df = pd.DataFrame(pd.read_csv('Zee_Run2011A.csv'))\n",
    "df.info()"
   ]
  },
  {
   "cell_type": "markdown",
   "metadata": {},
   "source": [
    "# Problem 2\n",
    "\n",
    "Create a new DataFrame column, which lists the value of the reconstructed invariant mass, $m_{inv}$, from the $Z\\rightarrow ee$ decay. The invariant mass is given by\n",
    "\n",
    "$m_{inv} = \\sqrt{2 p_{T1} p_{T2} \\left(cosh\\left(\\eta_1 - \\eta_2\\right) - cos\\left(\\phi_1 -\\phi_2\\right) \\right)}$\n",
    "\n",
    "Make a histogram of the invariant mass."
   ]
  },
  {
   "cell_type": "code",
   "execution_count": 3,
   "metadata": {},
   "outputs": [
    {
     "data": {
      "text/html": [
       "<div>\n",
       "<style scoped>\n",
       "    .dataframe tbody tr th:only-of-type {\n",
       "        vertical-align: middle;\n",
       "    }\n",
       "\n",
       "    .dataframe tbody tr th {\n",
       "        vertical-align: top;\n",
       "    }\n",
       "\n",
       "    .dataframe thead th {\n",
       "        text-align: right;\n",
       "    }\n",
       "</style>\n",
       "<table border=\"1\" class=\"dataframe\">\n",
       "  <thead>\n",
       "    <tr style=\"text-align: right;\">\n",
       "      <th></th>\n",
       "      <th>Run</th>\n",
       "      <th>Event</th>\n",
       "      <th>pt1</th>\n",
       "      <th>eta1</th>\n",
       "      <th>phi1</th>\n",
       "      <th>Q1</th>\n",
       "      <th>type1</th>\n",
       "      <th>sigmaEtaEta1</th>\n",
       "      <th>HoverE1</th>\n",
       "      <th>isoTrack1</th>\n",
       "      <th>...</th>\n",
       "      <th>eta2</th>\n",
       "      <th>phi2</th>\n",
       "      <th>Q2</th>\n",
       "      <th>type2</th>\n",
       "      <th>sigmaEtaEta2</th>\n",
       "      <th>HoverE2</th>\n",
       "      <th>isoTrack2</th>\n",
       "      <th>isoEcal2</th>\n",
       "      <th>isoHcal2</th>\n",
       "      <th>Invariant mass</th>\n",
       "    </tr>\n",
       "  </thead>\n",
       "  <tbody>\n",
       "    <tr>\n",
       "      <td>0</td>\n",
       "      <td>163286</td>\n",
       "      <td>109060857</td>\n",
       "      <td>37.5667</td>\n",
       "      <td>2.289180</td>\n",
       "      <td>2.052600</td>\n",
       "      <td>-1</td>\n",
       "      <td>EE</td>\n",
       "      <td>0.025125</td>\n",
       "      <td>0.008973</td>\n",
       "      <td>0.00000</td>\n",
       "      <td>...</td>\n",
       "      <td>1.47064</td>\n",
       "      <td>-1.16305</td>\n",
       "      <td>1</td>\n",
       "      <td>EB</td>\n",
       "      <td>0.000753</td>\n",
       "      <td>0.000000</td>\n",
       "      <td>0.000000</td>\n",
       "      <td>1.019030</td>\n",
       "      <td>0.000000</td>\n",
       "      <td>89.589562</td>\n",
       "    </tr>\n",
       "    <tr>\n",
       "      <td>1</td>\n",
       "      <td>163286</td>\n",
       "      <td>109275715</td>\n",
       "      <td>36.2901</td>\n",
       "      <td>-0.837253</td>\n",
       "      <td>-1.585920</td>\n",
       "      <td>1</td>\n",
       "      <td>EB</td>\n",
       "      <td>0.007829</td>\n",
       "      <td>0.043751</td>\n",
       "      <td>0.00000</td>\n",
       "      <td>...</td>\n",
       "      <td>-0.48957</td>\n",
       "      <td>1.04960</td>\n",
       "      <td>-1</td>\n",
       "      <td>EB</td>\n",
       "      <td>0.011246</td>\n",
       "      <td>0.000000</td>\n",
       "      <td>0.718473</td>\n",
       "      <td>1.846060</td>\n",
       "      <td>0.000000</td>\n",
       "      <td>92.252290</td>\n",
       "    </tr>\n",
       "    <tr>\n",
       "      <td>2</td>\n",
       "      <td>163286</td>\n",
       "      <td>109075352</td>\n",
       "      <td>25.9705</td>\n",
       "      <td>-0.697420</td>\n",
       "      <td>1.635990</td>\n",
       "      <td>-1</td>\n",
       "      <td>EB</td>\n",
       "      <td>0.009715</td>\n",
       "      <td>0.040728</td>\n",
       "      <td>6.28701</td>\n",
       "      <td>...</td>\n",
       "      <td>-2.04009</td>\n",
       "      <td>3.11875</td>\n",
       "      <td>1</td>\n",
       "      <td>EE</td>\n",
       "      <td>0.025972</td>\n",
       "      <td>0.028008</td>\n",
       "      <td>15.217000</td>\n",
       "      <td>4.533720</td>\n",
       "      <td>3.836990</td>\n",
       "      <td>67.859158</td>\n",
       "    </tr>\n",
       "    <tr>\n",
       "      <td>3</td>\n",
       "      <td>163286</td>\n",
       "      <td>109169766</td>\n",
       "      <td>41.0075</td>\n",
       "      <td>1.461920</td>\n",
       "      <td>-0.532464</td>\n",
       "      <td>1</td>\n",
       "      <td>EB</td>\n",
       "      <td>0.008753</td>\n",
       "      <td>0.000000</td>\n",
       "      <td>0.00000</td>\n",
       "      <td>...</td>\n",
       "      <td>1.15606</td>\n",
       "      <td>2.47858</td>\n",
       "      <td>-1</td>\n",
       "      <td>EB</td>\n",
       "      <td>0.008590</td>\n",
       "      <td>0.000000</td>\n",
       "      <td>0.000000</td>\n",
       "      <td>2.438830</td>\n",
       "      <td>0.567555</td>\n",
       "      <td>87.604923</td>\n",
       "    </tr>\n",
       "    <tr>\n",
       "      <td>4</td>\n",
       "      <td>163286</td>\n",
       "      <td>108947653</td>\n",
       "      <td>39.8985</td>\n",
       "      <td>-0.592666</td>\n",
       "      <td>-2.394720</td>\n",
       "      <td>1</td>\n",
       "      <td>EB</td>\n",
       "      <td>0.015261</td>\n",
       "      <td>0.000000</td>\n",
       "      <td>2.54347</td>\n",
       "      <td>...</td>\n",
       "      <td>-2.24444</td>\n",
       "      <td>0.61061</td>\n",
       "      <td>-1</td>\n",
       "      <td>EE</td>\n",
       "      <td>0.029025</td>\n",
       "      <td>0.000000</td>\n",
       "      <td>12.422900</td>\n",
       "      <td>0.453359</td>\n",
       "      <td>0.909608</td>\n",
       "      <td>101.426755</td>\n",
       "    </tr>\n",
       "  </tbody>\n",
       "</table>\n",
       "<p>5 rows × 23 columns</p>\n",
       "</div>"
      ],
      "text/plain": [
       "      Run      Event      pt1      eta1      phi1  Q1 type1  sigmaEtaEta1  \\\n",
       "0  163286  109060857  37.5667  2.289180  2.052600  -1    EE      0.025125   \n",
       "1  163286  109275715  36.2901 -0.837253 -1.585920   1    EB      0.007829   \n",
       "2  163286  109075352  25.9705 -0.697420  1.635990  -1    EB      0.009715   \n",
       "3  163286  109169766  41.0075  1.461920 -0.532464   1    EB      0.008753   \n",
       "4  163286  108947653  39.8985 -0.592666 -2.394720   1    EB      0.015261   \n",
       "\n",
       "    HoverE1  isoTrack1  ...     eta2     phi2  Q2  type2  sigmaEtaEta2  \\\n",
       "0  0.008973    0.00000  ...  1.47064 -1.16305   1     EB      0.000753   \n",
       "1  0.043751    0.00000  ... -0.48957  1.04960  -1     EB      0.011246   \n",
       "2  0.040728    6.28701  ... -2.04009  3.11875   1     EE      0.025972   \n",
       "3  0.000000    0.00000  ...  1.15606  2.47858  -1     EB      0.008590   \n",
       "4  0.000000    2.54347  ... -2.24444  0.61061  -1     EE      0.029025   \n",
       "\n",
       "    HoverE2  isoTrack2  isoEcal2  isoHcal2  Invariant mass  \n",
       "0  0.000000   0.000000  1.019030  0.000000       89.589562  \n",
       "1  0.000000   0.718473  1.846060  0.000000       92.252290  \n",
       "2  0.028008  15.217000  4.533720  3.836990       67.859158  \n",
       "3  0.000000   0.000000  2.438830  0.567555       87.604923  \n",
       "4  0.000000  12.422900  0.453359  0.909608      101.426755  \n",
       "\n",
       "[5 rows x 23 columns]"
      ]
     },
     "execution_count": 3,
     "metadata": {},
     "output_type": "execute_result"
    },
    {
     "data": {
      "image/png": "[encoded data removed]",
      "text/plain": [
       "<Figure size 432x288 with 1 Axes>"
      ]
     },
     "metadata": {
      "needs_background": "light"
     },
     "output_type": "display_data"
    }
   ],
   "source": [
    "massinv = np.sqrt(2*df['pt1']*df['pt2']*(np.cosh(df['eta1']-df['eta2'])-np.cos(df['phi1']-df['phi2'])))\n",
    "df['Invariant mass'] =massinv\n",
    "df.hist('Invariant mass', bins =200);\n",
    "df.head()\n",
    "#invarient mass is the last column"
   ]
  },
  {
   "cell_type": "markdown",
   "metadata": {},
   "source": [
    "# Problem 3\n",
    "\n",
    "The Relativistic Breit-Wigner distribution is expected to describe the , which is given as\n",
    "\n",
    "Wikepedia: https://en.wikipedia.org/wiki/Relativistic_Breit%E2%80%93Wigner_distribution\n",
    "\n",
    "$f(E) = \\frac{k}{(E^2 -M^2)^2 + M^2\\Gamma^2}$, where\n",
    "\n",
    " * $\\gamma$ = $\\sqrt{M^2(M^2+\\Gamma^2)}$\n",
    " * $k = \\frac{2\\sqrt{2}M\\Gamma\\gamma}{\\pi\\sqrt{M^2+\\gamma}}$\n",
    " \n",
    " Where $E$ is the energy, $M$ is the mass value where the function will peak. \n",
    " Fit the invariant mass distribution with the function:\n",
    " \n",
    " $aE + b + cf(E)$,\n",
    " \n",
    " where $a, b, $ and $c$ are fit parameters to be deterimined by your fit that describe a linear background, and $f(E)$ is the Relativistic Breit-Wigner function described above. To do this you should make a function that takes as agruments: $\\Gamma, M, a, b, c$. Where $\\Gamma$ and $M$ are contained in the Breit-Wigner function ($f(E)$). Our fit will determine the values $\\Gamma, M, a, b, c$. The value of $M = m_{inv}$ and should be near where the distribution peaks.   \n",
    " \n",
    " Fit the distribution and calculate the reduced $\\chi^2$. You can use either the *curve_fit* function form Scipy or the MC fitting approach.\n",
    " \n",
    " What is your best invariant mass value according to your fit? How does this compare to the accepted value of the $Z$ boson mass (you can look it up on Wikipedia)?"
   ]
  },
  {
   "cell_type": "code",
   "execution_count": 9,
   "metadata": {},
   "outputs": [
    {
     "data": {
      "image/png": "[encoded data removed]",
      "text/plain": [
       "<Figure size 432x288 with 1 Axes>"
      ]
     },
     "metadata": {
      "needs_background": "light"
     },
     "output_type": "display_data"
    }
   ],
   "source": [
    "lowbound= 60\n",
    "highbound= 120\n",
    "bins=100\n",
    "initialconditions = [2.5, 91, -2, 200, 13000]\n",
    "#distribution is defined in next cell\n",
    "distribution= plt.hist(massinv, bins= 300, range=(lowbound, highbound));\n",
    "y= distribution[0]#event count\n",
    "x= 0.5*(distribution[1][0:-1] + distribution[1][1:])\n",
    "yerr= np.sqrt(y)\n",
    "\n",
    "def bwdistribution(energy, gamma, m, a, b, c):\n",
    "    lcgamma= np.sqrt(m**2*(m**2 + gamma**2))\n",
    "    k= 2*np.sqrt(2)*m*gamma*lcgamma/(np.pi*np.sqrt(m**2+ lcgamma))\n",
    "    d=(energy**2 - m**2)**2+(m**2)*(gamma**2)\n",
    "    return a*energy + b + c*(k/d)\n",
    "\n",
    "for i in range(len(y)):\n",
    "    if yerr[i]==0:\n",
    "        yerr[i]= 1.0\n",
    "    else:\n",
    "        yerr[i]= y[i]\n",
    "params, variance, = curve_fit(bwdistribution, x, y, p0=initialconditions, sigma= yerr)\n",
    "error= np.sqrt(np.diag(variance))"
   ]
  },
  {
   "cell_type": "code",
   "execution_count": 10,
   "metadata": {},
   "outputs": [
    {
     "name": "stdout",
     "output_type": "stream",
     "text": [
      "Best gamma Value 6.893498676241105\n",
      "Best value for invarient mass 90.22235026050434\n"
     ]
    },
    {
     "data": {
      "image/png": "[encoded data removed]",
      "text/plain": [
       "<Figure size 432x288 with 1 Axes>"
      ]
     },
     "metadata": {
      "needs_background": "light"
     },
     "output_type": "display_data"
    }
   ],
   "source": [
    "fig=plt.figure()\n",
    "distribution= plt.hist(massinv, bins= 300, range=(lowbound, highbound))\n",
    "plt.plot(x, bwdistribution(x, *params), 'r-', label = 'Best Fit distribution')\n",
    "plt.xlabel(\"Invariant Mass\")\n",
    "plt.ylabel(\"Event Count\")\n",
    "plt.legend();\n",
    "\n",
    "print(\"Best gamma Value\",params[0])\n",
    "print(\"Best value for invarient mass\",params[1])"
   ]
  },
  {
   "cell_type": "code",
   "execution_count": 11,
   "metadata": {},
   "outputs": [
    {
     "name": "stdout",
     "output_type": "stream",
     "text": [
      "reduced chi squared 11.318371212171177\n"
     ]
    }
   ],
   "source": [
    "#for reduced chi squared\n",
    "rchisq=sum(((distribution[0]-bwdistribution(x,params[0],params[1],params[2],params[3],params[4]))**2)/(yerr**2))\n",
    "print(\"reduced chi squared\",rchisq)"
   ]
  },
  {
   "cell_type": "markdown",
   "metadata": {},
   "source": [
    "# Problem 4\n",
    "\n",
    "On the same graph, make histograms of the $\\eta_1$ and $\\eta_2$ distributions. Be sure to include a legend so the two distributions can be distinquised."
   ]
  },
  {
   "cell_type": "code",
   "execution_count": 12,
   "metadata": {},
   "outputs": [
    {
     "data": {
      "text/plain": [
       "Text(0.5, 1.0, 'Distributions of $\\\\eta_1$ and $\\\\eta_2$')"
      ]
     },
     "execution_count": 12,
     "metadata": {},
     "output_type": "execute_result"
    },
    {
     "data": {
      "image/png": "[encoded data removed]",
      "text/plain": [
       "<Figure size 432x288 with 1 Axes>"
      ]
     },
     "metadata": {
      "needs_background": "light"
     },
     "output_type": "display_data"
    }
   ],
   "source": [
    "fig2= plt.figure()\n",
    "axers= fig2.add_axes([0.8, 0.8, 0.8, 0.8])\n",
    "axers.hist(df.eta1, alpha= 0.5, bins= 200, label =\" $\\eta_1$\")\n",
    "axers.hist(df.eta2, alpha= 0.3,  bins= 200, label = \"$\\eta_2$\")\n",
    "axers.legend()\n",
    "axers.set_title(\"Distributions of $\\eta_1$ and $\\eta_2$\")"
   ]
  },
  {
   "attachments": {
    "Screen%20Shot%202021-07-15%20at%201.22.30%20PM.png": {
     "image/png": "[encoded data removed]"
    }
   },
   "cell_type": "markdown",
   "metadata": {},
   "source": [
    "# Problem 5\n",
    "\n",
    "From the distribution above, we clearly see two distinct distributions in the histogram. We can explain this due to the decay particles being detected in two different detectors, the electromagnetic barrel calorimeter (EB) and the endcap electromagnetic calorimeter (EE). This distinction is made in the column labeled *type1* and *type2*, which tells us which detector particle 1 and particle 2 are detected in. \n",
    "\n",
    "Create two DataFrames *barrel* and *endcap*, where *barrel* keeps all of the information in the original DataFrame where both particles were detected in the EB, and *endcap* keeps all of the information in the original DataFrame where both particles were detected in the EE.\n",
    "\n",
    "Make two sub plots where in sub plot one you histogram the $\\eta1$ distribution for the particles in the EB and EE. Then in sub plot two histogram the $\\eta2$ distribution for particles detected in the EE and EB. Be sure to include a legend that distiquishes EB from EE events. You should have something like that shown below:\n",
    "\n",
    "![Screen%20Shot%202021-07-15%20at%201.22.30%20PM.png](attachment:Screen%20Shot%202021-07-15%20at%201.22.30%20PM.png)\n",
    "\n",
    "Based on the information above, does our assumption that the $\\eta$ distribution looks the way it does is because of the two different detectors make sense? Based on your histograms, what is the rough $\\eta$ ranges covered by the EB and EE detectors?"
   ]
  },
  {
   "cell_type": "code",
   "execution_count": 13,
   "metadata": {},
   "outputs": [
    {
     "data": {
      "text/plain": [
       "<matplotlib.legend.Legend at 0x2c6a2a8fb08>"
      ]
     },
     "execution_count": 13,
     "metadata": {},
     "output_type": "execute_result"
    },
    {
     "data": {
      "image/png": "[encoded data removed]",
      "text/plain": [
       "<Figure size 432x288 with 2 Axes>"
      ]
     },
     "metadata": {
      "needs_background": "light"
     },
     "output_type": "display_data"
    }
   ],
   "source": [
    "#create data frames for dectors\n",
    "barrel = df[(df['type1']=='EB') & (df['type2']=='EB')]\n",
    "endcap = df[(df['type1']=='EE') & (df['type2']=='EE')]\n",
    "\n",
    "fig3, axus, = plt.subplots(2,1)\n",
    "axus[0].hist(barrel.eta1, bins= 300, label= \"Barrel\")\n",
    "axus[0].hist(endcap.eta1, bins= 300, label= \"Endcap\")\n",
    "axus[0].set_title(\"$\\eta_1$\")\n",
    "axus[0].legend()\n",
    "\n",
    "axus[1].hist(barrel.eta2, bins= 300, label= \"Barrel\")\n",
    "axus[1].hist(endcap.eta2, bins= 300, label= \"Endcap\")\n",
    "axus[1].set_title(\"$\\eta_2$\")\n",
    "axus[1].legend()"
   ]
  },
  {
   "cell_type": "markdown",
   "metadata": {},
   "source": [
    "# Problem 6\n",
    "\n",
    "With particles being detected in two different detectors, the resolution of the detectors could differ. This could reslt in measureing the boson mass better in one detector than the other.\n",
    "\n",
    "Using your *barrel* and *endcap* DataFrames from above, on the same graph make a histogram of the invariant mass measured in the barrel and endcap detectors.  \n",
    "\n",
    "Use the *std* function to get the standard deviation of the two invariant mass distributions. The standard deviation is reflective of how narrow our mass peak is. Which detector gives the better resolution and hence the narrower invariant mass distribution? Does your histogram support the same conclusion?"
   ]
  },
  {
   "cell_type": "code",
   "execution_count": 14,
   "metadata": {},
   "outputs": [
    {
     "name": "stdout",
     "output_type": "stream",
     "text": [
      "Barrel standard deviation: 11.489115344078318\n",
      "Endcap standard deviation: 12.229202324653295\n"
     ]
    },
    {
     "data": {
      "image/png": "[encoded data removed]",
      "text/plain": [
       "<Figure size 432x288 with 1 Axes>"
      ]
     },
     "metadata": {
      "needs_background": "light"
     },
     "output_type": "display_data"
    }
   ],
   "source": [
    "#need mass calculations for barrel and endcap\n",
    "blue= (2*barrel.pt1*barrel.pt2)\n",
    "green= np.cosh(barrel.eta1-barrel.eta2)\n",
    "purple= np.cos(barrel.phi1-barrel.phi2)\n",
    "barrelmass= np.sqrt(blue*(green-purple))\n",
    "\n",
    "red= (2*endcap.pt1*endcap.pt2)\n",
    "orange= np.cosh(endcap.eta1-endcap.eta2)\n",
    "yellow= np.cos(endcap.phi1-endcap.phi2)\n",
    "endcapmass= np.sqrt(red*(orange-yellow))\n",
    "\n",
    "fig4= plt.figure()\n",
    "axes4= fig4.add_axes([0.8,0.8,0.8,0.8])\n",
    "axes4.hist(barrelmass, bins= 300, label= \"Barrel\")\n",
    "axes4.hist(endcapmass, bins=300, label= 'Endcap')\n",
    "axes4.legend();\n",
    "print(\"Barrel standard deviation:\", barrelmass.std())\n",
    "print(\"Endcap standard deviation:\", endcapmass.std())\n",
    "#the barral standard dev > that of the end, imply thats the barrel is more accurate\n",
    "#this can also be infered by looking at the histogram, the blue peak as it is much bigger\n",
    "#however the standard deviation are relatively close to one another"
   ]
  },
  {
   "cell_type": "markdown",
   "metadata": {},
   "source": [
    "# Problem 7\n",
    "From your DataFrame (from Problem 2), drop all columns except for pt1, eta1, phi1, pt2, eta2, phi2, and M. \n",
    "Using this DataFrame, use the Pandas *corr* function to produce a correlataion table. What quantites have the strongest correlation (that is not 1)?"
   ]
  },
  {
   "cell_type": "code",
   "execution_count": 15,
   "metadata": {},
   "outputs": [
    {
     "data": {
      "text/html": [
       "<div>\n",
       "<style scoped>\n",
       "    .dataframe tbody tr th:only-of-type {\n",
       "        vertical-align: middle;\n",
       "    }\n",
       "\n",
       "    .dataframe tbody tr th {\n",
       "        vertical-align: top;\n",
       "    }\n",
       "\n",
       "    .dataframe thead th {\n",
       "        text-align: right;\n",
       "    }\n",
       "</style>\n",
       "<table border=\"1\" class=\"dataframe\">\n",
       "  <thead>\n",
       "    <tr style=\"text-align: right;\">\n",
       "      <th></th>\n",
       "      <th>pt1</th>\n",
       "      <th>eta1</th>\n",
       "      <th>phi1</th>\n",
       "      <th>pt2</th>\n",
       "      <th>eta2</th>\n",
       "      <th>phi2</th>\n",
       "    </tr>\n",
       "  </thead>\n",
       "  <tbody>\n",
       "    <tr>\n",
       "      <td>0</td>\n",
       "      <td>37.5667</td>\n",
       "      <td>2.289180</td>\n",
       "      <td>2.052600</td>\n",
       "      <td>45.4315</td>\n",
       "      <td>1.47064</td>\n",
       "      <td>-1.16305</td>\n",
       "    </tr>\n",
       "    <tr>\n",
       "      <td>1</td>\n",
       "      <td>36.2901</td>\n",
       "      <td>-0.837253</td>\n",
       "      <td>-1.585920</td>\n",
       "      <td>60.5754</td>\n",
       "      <td>-0.48957</td>\n",
       "      <td>1.04960</td>\n",
       "    </tr>\n",
       "    <tr>\n",
       "      <td>2</td>\n",
       "      <td>25.9705</td>\n",
       "      <td>-0.697420</td>\n",
       "      <td>1.635990</td>\n",
       "      <td>45.2954</td>\n",
       "      <td>-2.04009</td>\n",
       "      <td>3.11875</td>\n",
       "    </tr>\n",
       "    <tr>\n",
       "      <td>3</td>\n",
       "      <td>41.0075</td>\n",
       "      <td>1.461920</td>\n",
       "      <td>-0.532464</td>\n",
       "      <td>45.9013</td>\n",
       "      <td>1.15606</td>\n",
       "      <td>2.47858</td>\n",
       "    </tr>\n",
       "    <tr>\n",
       "      <td>4</td>\n",
       "      <td>39.8985</td>\n",
       "      <td>-0.592666</td>\n",
       "      <td>-2.394720</td>\n",
       "      <td>34.8931</td>\n",
       "      <td>-2.24444</td>\n",
       "      <td>0.61061</td>\n",
       "    </tr>\n",
       "  </tbody>\n",
       "</table>\n",
       "</div>"
      ],
      "text/plain": [
       "       pt1      eta1      phi1      pt2     eta2     phi2\n",
       "0  37.5667  2.289180  2.052600  45.4315  1.47064 -1.16305\n",
       "1  36.2901 -0.837253 -1.585920  60.5754 -0.48957  1.04960\n",
       "2  25.9705 -0.697420  1.635990  45.2954 -2.04009  3.11875\n",
       "3  41.0075  1.461920 -0.532464  45.9013  1.15606  2.47858\n",
       "4  39.8985 -0.592666 -2.394720  34.8931 -2.24444  0.61061"
      ]
     },
     "execution_count": 15,
     "metadata": {},
     "output_type": "execute_result"
    }
   ],
   "source": [
    "dfc=df.copy()\n",
    "dfc= dfc[['pt1', 'eta1', 'phi1', 'pt2', 'eta2', 'phi2']]\n",
    "dfc.head()"
   ]
  },
  {
   "cell_type": "code",
   "execution_count": 16,
   "metadata": {},
   "outputs": [
    {
     "data": {
      "text/html": [
       "<div>\n",
       "<style scoped>\n",
       "    .dataframe tbody tr th:only-of-type {\n",
       "        vertical-align: middle;\n",
       "    }\n",
       "\n",
       "    .dataframe tbody tr th {\n",
       "        vertical-align: top;\n",
       "    }\n",
       "\n",
       "    .dataframe thead th {\n",
       "        text-align: right;\n",
       "    }\n",
       "</style>\n",
       "<table border=\"1\" class=\"dataframe\">\n",
       "  <thead>\n",
       "    <tr style=\"text-align: right;\">\n",
       "      <th></th>\n",
       "      <th>pt1</th>\n",
       "      <th>eta1</th>\n",
       "      <th>phi1</th>\n",
       "      <th>pt2</th>\n",
       "      <th>eta2</th>\n",
       "      <th>phi2</th>\n",
       "    </tr>\n",
       "  </thead>\n",
       "  <tbody>\n",
       "    <tr>\n",
       "      <td>pt1</td>\n",
       "      <td>1.000000</td>\n",
       "      <td>-0.005495</td>\n",
       "      <td>-0.000376</td>\n",
       "      <td>-0.068503</td>\n",
       "      <td>-0.009661</td>\n",
       "      <td>-0.000184</td>\n",
       "    </tr>\n",
       "    <tr>\n",
       "      <td>eta1</td>\n",
       "      <td>-0.005495</td>\n",
       "      <td>1.000000</td>\n",
       "      <td>0.015935</td>\n",
       "      <td>0.009975</td>\n",
       "      <td>0.665429</td>\n",
       "      <td>-0.022004</td>\n",
       "    </tr>\n",
       "    <tr>\n",
       "      <td>phi1</td>\n",
       "      <td>-0.000376</td>\n",
       "      <td>0.015935</td>\n",
       "      <td>1.000000</td>\n",
       "      <td>0.000893</td>\n",
       "      <td>0.007323</td>\n",
       "      <td>-0.460515</td>\n",
       "    </tr>\n",
       "    <tr>\n",
       "      <td>pt2</td>\n",
       "      <td>-0.068503</td>\n",
       "      <td>0.009975</td>\n",
       "      <td>0.000893</td>\n",
       "      <td>1.000000</td>\n",
       "      <td>0.010027</td>\n",
       "      <td>-0.000399</td>\n",
       "    </tr>\n",
       "    <tr>\n",
       "      <td>eta2</td>\n",
       "      <td>-0.009661</td>\n",
       "      <td>0.665429</td>\n",
       "      <td>0.007323</td>\n",
       "      <td>0.010027</td>\n",
       "      <td>1.000000</td>\n",
       "      <td>-0.023955</td>\n",
       "    </tr>\n",
       "    <tr>\n",
       "      <td>phi2</td>\n",
       "      <td>-0.000184</td>\n",
       "      <td>-0.022004</td>\n",
       "      <td>-0.460515</td>\n",
       "      <td>-0.000399</td>\n",
       "      <td>-0.023955</td>\n",
       "      <td>1.000000</td>\n",
       "    </tr>\n",
       "  </tbody>\n",
       "</table>\n",
       "</div>"
      ],
      "text/plain": [
       "           pt1      eta1      phi1       pt2      eta2      phi2\n",
       "pt1   1.000000 -0.005495 -0.000376 -0.068503 -0.009661 -0.000184\n",
       "eta1 -0.005495  1.000000  0.015935  0.009975  0.665429 -0.022004\n",
       "phi1 -0.000376  0.015935  1.000000  0.000893  0.007323 -0.460515\n",
       "pt2  -0.068503  0.009975  0.000893  1.000000  0.010027 -0.000399\n",
       "eta2 -0.009661  0.665429  0.007323  0.010027  1.000000 -0.023955\n",
       "phi2 -0.000184 -0.022004 -0.460515 -0.000399 -0.023955  1.000000"
      ]
     },
     "execution_count": 16,
     "metadata": {},
     "output_type": "execute_result"
    }
   ],
   "source": [
    "dfc.corr()"
   ]
  },
  {
   "cell_type": "code",
   "execution_count": null,
   "metadata": {},
   "outputs": [],
   "source": [
    "#the relationship bewteen eta1 and eta 2 have the strongest correlation"
   ]
  }
 ],
 "metadata": {
  "kernelspec": {
   "display_name": "Python 3",
   "language": "python",
   "name": "python3"
  },
  "language_info": {
   "codemirror_mode": {
    "name": "ipython",
    "version": 3
   },
   "file_extension": ".py",
   "mimetype": "text/x-python",
   "name": "python",
   "nbconvert_exporter": "python",
   "pygments_lexer": "ipython3",
   "version": "3.7.4"
  }
 },
 "nbformat": 4,
 "nbformat_minor": 4
}

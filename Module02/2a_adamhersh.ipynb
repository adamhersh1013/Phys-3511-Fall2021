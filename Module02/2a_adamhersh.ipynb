{
 "cells": [
  {
   "cell_type": "markdown",
   "metadata": {},
   "source": [
    "# Assignment 2a Due 9/8\n",
    "\n",
    "In this assigment you will explore and become familiar with writing and using algorithms to numerically approxomate definite integrals.\n",
    "\n",
    "Assignment Overview:\n",
    "* Impliment your own midpoint, trapazoid, and Simpson's rule integration algorithms\n",
    "* Use those to solve a definite integral\n",
    "* Compare your algorithms to those from scipy\n",
    "* Compare all approximate solutions to the exact solutions\n"
   ]
  },
  {
   "cell_type": "markdown",
   "metadata": {},
   "source": [
    "You can import only the following packages: numpy, math, scipy, matplotlib.pyplot"
   ]
  },
  {
   "cell_type": "code",
   "execution_count": 104,
   "metadata": {},
   "outputs": [],
   "source": [
    "#your import cell\n",
    "import numpy as np\n",
    "import math\n",
    "import scipy as sc\n",
    "from scipy import integrate\n",
    "import matplotlib as mpl"
   ]
  },
  {
   "cell_type": "markdown",
   "metadata": {},
   "source": [
    "Now we can define our integration algorithms"
   ]
  },
  {
   "cell_type": "code",
   "execution_count": 204,
   "metadata": {},
   "outputs": [
    {
     "data": {
      "text/plain": [
       "4.0"
      ]
     },
     "execution_count": 204,
     "metadata": {},
     "output_type": "execute_result"
    }
   ],
   "source": [
    "#define midpoint rule\n",
    "def midpointintg(function,xmin,xmax,dxcount):\n",
    "    dxarray=np.linspace(xmin,xmax, 2*dxcount+1) #everyother point given from linsapce is used to go into function\n",
    "    placeholder =1\n",
    "    area = 0\n",
    "    while placeholder < len(dxarray):\n",
    "        y = function(dxarray[placeholder])\n",
    "        dx = dxarray[placeholder + 1]-dxarray[placeholder - 1] #dx is equidistant around x, +/_ one linspace interval\n",
    "        area = area + (y*dx)\n",
    "        placeholder = placeholder + 2\n",
    "    return area\n",
    "                    \n",
    "testfun = lambda x: 2*x\n",
    "midpointintg( testfun ,0,2,10) \n"
   ]
  },
  {
   "cell_type": "code",
   "execution_count": 205,
   "metadata": {},
   "outputs": [
    {
     "data": {
      "text/plain": [
       "2.6700000000000004"
      ]
     },
     "execution_count": 205,
     "metadata": {},
     "output_type": "execute_result"
    }
   ],
   "source": [
    "#define trapazoidal rule\n",
    "def trapintg(function,xmin,xmax,dxcount):\n",
    "    dxtrap=np.linspace(xmin,xmax,dxcount+1) #\n",
    "    tarea = 0\n",
    "    for i in range(dxcount):#array has i+1 elements\n",
    "        yone = function(dxtrap[i])\n",
    "        ytwo= function(dxtrap[i+1])#number of points including start and finish is one more than the dx count\n",
    "        tdx = dxtrap[i+1]-dxtrap[i] \n",
    "        tarea = tarea + (1/2*tdx*(yone+ytwo))\n",
    "    return tarea\n",
    "                    \n",
    "testfuntwo = lambda x: x**2\n",
    "trapintg(testfuntwo ,0,2,20)\n"
   ]
  },
  {
   "cell_type": "code",
   "execution_count": 68,
   "metadata": {},
   "outputs": [],
   "source": [
    "#define simpson's rule \n",
    "def simpsons(function,xmin,xmax,dxcount):\n",
    "    sarea = (2*midpointintg(function,xmin,xmax,dxcount)+trapintg(function,xmin,xmax,dxcount))/3 #using weighted average of previous values\n",
    "    return sarea"
   ]
  },
  {
   "cell_type": "markdown",
   "metadata": {},
   "source": [
    "# Question \n",
    "Sanity checking your code is very important. How can you check that your functions are working properly?"
   ]
  },
  {
   "cell_type": "markdown",
   "metadata": {},
   "source": []
  },
  {
   "cell_type": "markdown",
   "metadata": {},
   "source": [
    "For this notebook assigment we would like to solve the integral\\\n",
    "$\\int_{a}^{b} \\frac{2}{(2^2 + x^2)^{3/2}}dx$"
   ]
  },
  {
   "cell_type": "markdown",
   "metadata": {},
   "source": [
    "# Question\n",
    "Have you seen an integral like this before in physics? From where?"
   ]
  },
  {
   "cell_type": "markdown",
   "metadata": {},
   "source": []
  },
  {
   "cell_type": "markdown",
   "metadata": {},
   "source": [
    "Solve the above integral using the numerical integrations that you wrote. When defining the function we will integrate over do so using python's **lambda** function.\n",
    "\n",
    "For the integration take $a = 0,\\; b = 2,\\;$ and we will split it up into 6 partitions."
   ]
  },
  {
   "cell_type": "markdown",
   "metadata": {},
   "source": [
    "# Question\n",
    "What is the exact solution?"
   ]
  },
  {
   "cell_type": "code",
   "execution_count": 288,
   "metadata": {},
   "outputs": [
    {
     "name": "stdout",
     "output_type": "stream",
     "text": [
      "0.3535533905932738\n"
     ]
    }
   ],
   "source": [
    "#exact solution to the integral\n",
    "exact = (1/4)*math.sqrt(2)\n",
    "print(exact)"
   ]
  },
  {
   "cell_type": "code",
   "execution_count": 287,
   "metadata": {},
   "outputs": [
    {
     "name": "stdout",
     "output_type": "stream",
     "text": [
      "midpoint 0.35385997545853143\n",
      "trapezoid 0.35293994641413146\n",
      "simpson 0.35355329911039807\n"
     ]
    }
   ],
   "source": [
    "#solve the integral using your integration functions\n",
    "function= lambda x: 2*(4+x**2)**(-3/2)\n",
    "am=midpointintg(function,0,2,6)\n",
    "print(\"midpoint\",am)\n",
    "at=trapintg(function,0,2,6)\n",
    "print(\"trapezoid\",at)\n",
    "asi=simpsons(function,0,2,6)\n",
    "print(\"simpson\", asi)"
   ]
  },
  {
   "cell_type": "markdown",
   "metadata": {},
   "source": [
    "Use the trapz and simps methods from scipy's integration library to solve the integral.\n",
    "\n",
    "Note: Shit+tab at the end of a function in jupyter notebook reveals lots of information about the function."
   ]
  },
  {
   "cell_type": "code",
   "execution_count": 286,
   "metadata": {},
   "outputs": [
    {
     "name": "stdout",
     "output_type": "stream",
     "text": [
      "sci_simp yields: [0.45857696]\n",
      "sci_trap yields: [0.463707]\n"
     ]
    }
   ],
   "source": [
    "#scipy integration\n",
    "def arraycrea(n):\n",
    "    xar= np.array(range(n))\n",
    "    return xar\n",
    "def arraycreate(n):\n",
    "    yl=list()\n",
    "    for i in range (n):\n",
    "        yv=2*(4+i**2)**(-3/2)\n",
    "        yl.append(yv)\n",
    "    return yl\n",
    "fox=np.array(arraycreate(6))\n",
    "sci_trap = sc.trapz([fox])\n",
    "sci_simp = integrate.simps([fox])\n",
    "print('sci_simp yields:',sci_simp)\n",
    "print('sci_trap yields:', sci_trap)"
   ]
  },
  {
   "cell_type": "markdown",
   "metadata": {},
   "source": [
    "# Question\n",
    "How do scipy integrals compare to yours? Support your answer. "
   ]
  },
  {
   "cell_type": "markdown",
   "metadata": {},
   "source": []
  },
  {
   "cell_type": "code",
   "execution_count": 284,
   "metadata": {},
   "outputs": [
    {
     "name": "stdout",
     "output_type": "stream",
     "text": [
      "trapmethod: [-23.88729366]\n",
      "simpsons method: [-23.03583117]\n"
     ]
    }
   ],
   "source": [
    "#print the numerical values\n",
    "def pdif(a,e):\n",
    "    dif=100*((a-e)/e)\n",
    "    return dif\n",
    "print(\"trapmethod:\" , pdif(at,sci_trap))\n",
    "print(\"simpsons method:\" , pdif(at,sci_simp))"
   ]
  },
  {
   "cell_type": "markdown",
   "metadata": {},
   "source": [
    "Numerically compare your midpoint, trapazoid, and Simpson method results to the exact value by calculating the quantity (approx - exact) / exact for each method. "
   ]
  },
  {
   "cell_type": "code",
   "execution_count": 285,
   "metadata": {},
   "outputs": [
    {
     "name": "stdout",
     "output_type": "stream",
     "text": [
      "all answers given as a percent\n",
      "midpoint 0.08671529489313702\n",
      "Trapezoid -0.17350821558038287\n",
      "simposon -2.58752647134114e-05\n"
     ]
    }
   ],
   "source": [
    "#numerical comparisons\n",
    "print(\"all answers given as a percent\")\n",
    "print(\"midpoint\",pdif(am,exact))\n",
    "print(\"Trapezoid\",pdif(at,exact))\n",
    "print(\"simposon\",pdif(asi,exact))"
   ]
  },
  {
   "cell_type": "markdown",
   "metadata": {},
   "source": [
    "# Question\n",
    "Which method provides the best approximation to the exact solution?"
   ]
  },
  {
   "cell_type": "markdown",
   "metadata": {},
   "source": []
  },
  {
   "cell_type": "markdown",
   "metadata": {},
   "source": [
    "It is often useful to represent the data graphically. Make a scatter plot showing the percent difference $100 \\times \\frac{approx. - exact}{exact}$ vs. integration method. Integration method on your x-axis should be strings such as *midpoint, trapazoid, and Simpson*. You should also draw on your plot a line at *y = 0*, which will help guide the eye where the perfect approximation (the exact solution) would sit. "
   ]
  },
  {
   "cell_type": "code",
   "execution_count": 283,
   "metadata": {},
   "outputs": [
    {
     "data": {
      "text/plain": [
       "Text(0, 0.5, 'percent difference')"
      ]
     },
     "execution_count": 283,
     "metadata": {},
     "output_type": "execute_result"
    },
    {
     "data": {
      "image/png": "[encoded data removed]",
      "text/plain": [
       "<Figure size 432x288 with 1 Axes>"
      ]
     },
     "metadata": {
      "needs_background": "light"
     },
     "output_type": "display_data"
    }
   ],
   "source": [
    "#plot \n",
    "#i dont understand what this is asking, if its asking to present a graph showing % difference between methods\n",
    "#a scatter plot doesn't make sense\n",
    "import matplotlib.pyplot as mpl\n",
    "\n",
    "xv=(\"midpoint\",\"trapezoid\",\"simpson\")\n",
    "yv=(pdif(am,exact),pdif(at,exact),pdif(asi,exact))\n",
    "yp=(0,0,0)\n",
    "fig= mpl.figure()\n",
    "\n",
    "ax=fig.add_axes([0.8,0.8,0.8,0.8])\n",
    "ax.plot(xv,yp, label=\"no error\")\n",
    "ax.scatter(xv,yv,marker='X')\n",
    "ax.legend()\n",
    "ax.set_xlabel('method used')\n",
    "ax.set_ylabel('percent difference')\n"
   ]
  },
  {
   "cell_type": "markdown",
   "metadata": {},
   "source": [
    "Using the scipy *quad* integration method, approximate the following integral\n",
    "\n",
    "$$\\int_{-\\infty}^{\\infty} e^{-x^{2}} dx$$\n",
    "\n",
    "Hint: Reference <a href=\"https://numpy.org/\">numpy</a> and see what it has to offer in terms of functions and *special* values"
   ]
  },
  {
   "cell_type": "code",
   "execution_count": 282,
   "metadata": {},
   "outputs": [
    {
     "name": "stdout",
     "output_type": "stream",
     "text": [
      "(1.7724538509055159, 1.4202636781830878e-08)\n"
     ]
    }
   ],
   "source": [
    "#solve integral above\n",
    "from sympy import limit\n",
    "\n",
    "functione = lambda x: math.exp(-1*x**2)  \n",
    "quadintg =integrate.quad(functione,-np.inf,np.inf)\n",
    "print(quadintg)"
   ]
  },
  {
   "cell_type": "markdown",
   "metadata": {},
   "source": [
    "# Question\n",
    "If you square your solution, does the resulting number have any special meaning?"
   ]
  },
  {
   "cell_type": "markdown",
   "metadata": {},
   "source": []
  }
 ],
 "metadata": {
  "kernelspec": {
   "display_name": "Python 3",
   "language": "python",
   "name": "python3"
  },
  "language_info": {
   "codemirror_mode": {
    "name": "ipython",
    "version": 3
   },
   "file_extension": ".py",
   "mimetype": "text/x-python",
   "name": "python",
   "nbconvert_exporter": "python",
   "pygments_lexer": "ipython3",
   "version": "3.7.4"
  }
 },
 "nbformat": 4,
 "nbformat_minor": 4
}

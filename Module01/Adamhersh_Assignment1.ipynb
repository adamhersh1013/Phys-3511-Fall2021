{
 "cells": [
  {
   "cell_type": "markdown",
   "metadata": {},
   "source": [
    "# Assignment 01: Due 09/01\n",
    "\n",
    "For this assignment you can use the following packages\n",
    "- numpy\n",
    "- mtplotlib\n",
    "- There is a python math module. This would be imported as\n",
    "  - > import math  \n",
    "  \n",
    "Before final sumbission it is a good idea to click on 'Kernel' --> 'Restart & Run All' to make sure your entire notebook runs correctly. It is easy to accidetly modify a value you did not intend to."
   ]
  },
  {
   "cell_type": "code",
   "execution_count": 2,
   "metadata": {},
   "outputs": [],
   "source": [
    "#import the packages here\n",
    "import numpy as np\n",
    "import matplotlib.pyplot as mpl\n",
    "import math\n"
   ]
  },
  {
   "cell_type": "markdown",
   "metadata": {},
   "source": [
    "## Problem 1\n",
    "(Problem adapted from scipy.com)\n",
    "\n",
    "Stirling's Approximation for $ln(n!)$ is:\n",
    "\n",
    "\\begin{equation}\n",
    "ln(n!) \\approx nln(n) − n.\n",
    "\\end{equation}\n",
    "\n",
    "Write a program to output $ln(n!)$ and its Stirling's approximation for $2 < n < 20$. Plot on the same graph the exact value and the approximate value as a function of n. Be sure to lable your curves and axes. **Hint**: the math module (and numpy.math) provides a factorial() method.\n"
   ]
  },
  {
   "cell_type": "code",
   "execution_count": 3,
   "metadata": {},
   "outputs": [
    {
     "data": {
      "image/png": "[encoded data removed]",
      "text/plain": [
       "<Figure size 432x288 with 1 Axes>"
      ]
     },
     "metadata": {
      "needs_background": "light"
     },
     "output_type": "display_data"
    }
   ],
   "source": [
    "n = 3\n",
    "xval=[]\n",
    "yval=[]\n",
    "xap=[]\n",
    "yap=[]\n",
    "def fofn(a):\n",
    "    fn = math.log(math.factorial(a))\n",
    "    xval.append(a)\n",
    "    yval.append(fn)\n",
    "def approx(x):\n",
    "    fax = x*math.log(x) - x\n",
    "    xap.append(n)\n",
    "    yap.append(fax)\n",
    "    \n",
    "for n in range (3,20):\n",
    "    fofn(n)\n",
    "    approx(n)\n",
    "\n",
    "mpl.plot(xval, yval, label = \"Actual Calculation\")\n",
    "mpl.plot(xap, yap, label = \" Stirling Spproximation\")\n",
    "mpl.xlabel('n value')\n",
    "mpl.ylabel('output')\n",
    "mpl.title('sterling approximation comparrison')\n",
    "mpl.legend()\n",
    "mpl.show()"
   ]
  },
  {
   "cell_type": "markdown",
   "metadata": {},
   "source": [
    "Now modify the program to output $ln(n!)$, Stirling's approximation, and the relative error in the approximation, for only the first value of n for which the relative error in the approximation, (exact-approx)/exact,  is less than 1%. Your out put should quote number to 3 decimal places. **Hint**: You may need to increase your n value and you may get an error message. Can you determine why you get an error and how to correctly make this comparison? "
   ]
  },
  {
   "cell_type": "code",
   "execution_count": 4,
   "metadata": {},
   "outputs": [
    {
     "name": "stdout",
     "output_type": "stream",
     "text": [
      "90\n",
      "0.996\n"
     ]
    }
   ],
   "source": [
    "#I think this means that you want python to scan through both outputs to find the first approximation with error >1%\n",
    "placeholder = 1\n",
    "b=3\n",
    "def fofn(a):\n",
    "    fn = math.log(math.factorial(a))\n",
    "    return fn\n",
    "    xval.append(a)\n",
    "    yval.append(fn)\n",
    "def approx(x):\n",
    "    fax = x*math.log(x) - x\n",
    "    xap.append(n)\n",
    "    yap.append(fax)\n",
    "    return fax\n",
    "\n",
    "while placeholder == 1:\n",
    "    c = fofn(b) #runs the scan\n",
    "    z = approx(b)\n",
    "    error= 100*(abs(c-z)/c)\n",
    "\n",
    "    if error < 1: #checks error\n",
    "        print(b)\n",
    "        print(round(error,3))\n",
    "        placeholder = 0\n",
    "    else:    #advances scan\n",
    "        b=b+1\n",
    "        \n",
    "        "
   ]
  },
  {
   "cell_type": "markdown",
   "metadata": {},
   "source": [
    "## Problem 2\n",
    "Create a numpy array of 100 7's."
   ]
  },
  {
   "cell_type": "code",
   "execution_count": 5,
   "metadata": {},
   "outputs": [
    {
     "name": "stdout",
     "output_type": "stream",
     "text": [
      "100\n",
      "['7' '7' '7' '7' '7' '7' '7' '7' '7' '7' '7' '7' '7' '7' '7' '7' '7' '7'\n",
      " '7' '7' '7' '7' '7' '7' '7' '7' '7' '7' '7' '7' '7' '7' '7' '7' '7' '7'\n",
      " '7' '7' '7' '7' '7' '7' '7' '7' '7' '7' '7' '7' '7' '7' '7' '7' '7' '7'\n",
      " '7' '7' '7' '7' '7' '7' '7' '7' '7' '7' '7' '7' '7' '7' '7' '7' '7' '7'\n",
      " '7' '7' '7' '7' '7' '7' '7' '7' '7' '7' '7' '7' '7' '7' '7' '7' '7' '7'\n",
      " '7' '7' '7' '7' '7' '7' '7' '7' '7' '7']\n"
     ]
    },
    {
     "data": {
      "text/plain": [
       "numpy.ndarray"
      ]
     },
     "execution_count": 5,
     "metadata": {},
     "output_type": "execute_result"
    }
   ],
   "source": [
    "sevens =[]\n",
    "x=len(sevens)\n",
    "while x <= 99:\n",
    "    sevens.append(\"7\")\n",
    "    x=x+1\n",
    "sevensarr=np.array(sevens)\n",
    "\n",
    "print(len(sevensarr))\n",
    "print(sevensarr)\n",
    "type(sevensarr)"
   ]
  },
  {
   "cell_type": "markdown",
   "metadata": {},
   "source": [
    "## Problem 3\n",
    "Given the numpy array below. Write a print statement that prints the array below for all values that are larger than 5."
   ]
  },
  {
   "cell_type": "code",
   "execution_count": 11,
   "metadata": {},
   "outputs": [
    {
     "name": "stdout",
     "output_type": "stream",
     "text": [
      "[ 5  0  3  3  7  9  3  5  2  4  7  6  8  8 10  1  6  7  7  8  1  5  9  8\n",
      "  9  4  3  0  3  5  0  2  3  8  1  3  3  3  7  0  1  9  9  0 10  4  7  3\n",
      "  2  7]\n"
     ]
    }
   ],
   "source": [
    "import numpy #kept getting error saying pop command isn't available\n",
    "np.random.seed(0)\n",
    "arr = np.random.randint(0,11,50)\n",
    "print(arr)"
   ]
  },
  {
   "cell_type": "code",
   "execution_count": 13,
   "metadata": {},
   "outputs": [
    {
     "data": {
      "text/plain": [
       "array([0, 3, 3, 3, 2, 4, 1, 1, 4, 3, 0, 3, 0, 2, 3, 1, 3, 3, 3, 0, 1, 0,\n",
       "       4, 3, 2])"
      ]
     },
     "execution_count": 13,
     "metadata": {},
     "output_type": "execute_result"
    }
   ],
   "source": [
    "arr[arr<5]"
   ]
  },
  {
   "cell_type": "markdown",
   "metadata": {},
   "source": [
    "## Problem 4\n",
    "Write a print statement that prints the below array with all values of '3' removed."
   ]
  },
  {
   "cell_type": "raw",
   "metadata": {},
   "source": []
  },
  {
   "cell_type": "code",
   "execution_count": 14,
   "metadata": {},
   "outputs": [
    {
     "name": "stdout",
     "output_type": "stream",
     "text": [
      "[4 5 0 3 3 3 1 3 5 2 4 0 0 4 2 1 0 1 5 1]\n"
     ]
    }
   ],
   "source": [
    "np.random.seed(0)\n",
    "arr2 = np.random.randint(0,6,20)\n",
    "print(arr2)"
   ]
  },
  {
   "cell_type": "code",
   "execution_count": 15,
   "metadata": {},
   "outputs": [
    {
     "data": {
      "text/plain": [
       "array([4, 5, 0, 1, 5, 2, 4, 0, 0, 4, 2, 1, 0, 1, 5, 1])"
      ]
     },
     "execution_count": 15,
     "metadata": {},
     "output_type": "execute_result"
    }
   ],
   "source": [
    "arr2[arr2!=3]"
   ]
  },
  {
   "cell_type": "code",
   "execution_count": null,
   "metadata": {},
   "outputs": [],
   "source": []
  },
  {
   "cell_type": "markdown",
   "metadata": {},
   "source": [
    "## Problem 5a\n",
    "Use numpy *random.randn()* to create a random 2D matrix array, that has 1000 entries in each dimension. When genereating the random values set the randome seed to zero. \n",
    "\n",
    "Fixing a seed will ensure that the same *random* values are generated eveytime you run the cell. You can try removing the seed specification and you will notice you get different random number generations each time you run the cell. In genral it is good practice to fix the seed when debugging your code.\n"
   ]
  },
  {
   "cell_type": "markdown",
   "metadata": {},
   "source": [
    "numpy.random.randn()"
   ]
  },
  {
   "cell_type": "code",
   "execution_count": 16,
   "metadata": {},
   "outputs": [
    {
     "name": "stdout",
     "output_type": "stream",
     "text": [
      "[[5 0 3 ... 3 4 3]\n",
      " [6 4 2 ... 1 8 8]\n",
      " [6 0 0 ... 7 7 0]\n",
      " ...\n",
      " [7 8 5 ... 3 6 7]\n",
      " [7 5 1 ... 5 1 2]\n",
      " [4 4 6 ... 6 4 8]]\n"
     ]
    }
   ],
   "source": [
    "np.random.seed(0)\n",
    "grandmat= np.array(np.random.randint(0,9,1000000))\n",
    "grandmat=grandmat.reshape(1000,1000)\n",
    "print(grandmat)"
   ]
  },
  {
   "cell_type": "markdown",
   "metadata": {},
   "source": [
    "## Problem 5b\n",
    "Create a plot that contains two subplots (one row tow pots). In each sub plot make a histogram of x and y random values from your matrix created in part a. Be sure to label your axes. The histograms will allow us to see how our data is distributed."
   ]
  },
  {
   "cell_type": "code",
   "execution_count": 17,
   "metadata": {},
   "outputs": [
    {
     "data": {
      "image/png": "[encoded data removed]",
      "text/plain": [
       "<Figure size 432x288 with 2 Axes>"
      ]
     },
     "metadata": {
      "needs_background": "light"
     },
     "output_type": "display_data"
    }
   ],
   "source": [
    "fig, axes = mpl.subplots(1,2)\n",
    "\n",
    "vec2=np.random.randn(1000)\n",
    "vec1=np.random.randn(1000)\n",
    "axes[0].hist(vec2)\n",
    "axes[1].hist(vec1)\n",
    "axes[0].set_title('first vector')\n",
    "axes[0].set_xlabel('element value')\n",
    "axes[0].set_ylabel('count')\n",
    "axes[1].set_title('second vector')\n",
    "axes[1].set_xlabel('element value')\n",
    "axes[1].set_ylabel('count')\n",
    "mpl.tight_layout();\n",
    "\n",
    "\n"
   ]
  },
  {
   "cell_type": "markdown",
   "metadata": {},
   "source": [
    "## Problem 5c\n",
    "Now make a x-y scatter plot of your 2D matrix from part a. Each axis should contain one matrix dimension. Be sure to label your axes. This will allow us to see if there are any obious correlations or dependencies on one another in our data."
   ]
  },
  {
   "cell_type": "code",
   "execution_count": 18,
   "metadata": {},
   "outputs": [
    {
     "data": {
      "text/plain": [
       "Text(0.5, 1.0, 'scatter plot vector 1 vs vector 2')"
      ]
     },
     "execution_count": 18,
     "metadata": {},
     "output_type": "execute_result"
    },
    {
     "data": {
      "image/png": "[encoded data removed]",
      "text/plain": [
       "<Figure size 432x288 with 1 Axes>"
      ]
     },
     "metadata": {
      "needs_background": "light"
     },
     "output_type": "display_data"
    }
   ],
   "source": [
    "#assuming you want a line over a conglomerate of dots.\n",
    "orgvec1=np.sort(vec1)\n",
    "orgvec2=np.sort(vec2)\n",
    "scatterfig = mpl.figure()\n",
    "ax = scatterfig.add_axes([0.1,0.1,0.8,0.8])\n",
    "ax.scatter(orgvec1,orgvec2,marker='o')\n",
    "ax.set_xlabel('vector one element value')\n",
    "ax.set_ylabel('vector two element value')\n",
    "ax.set_title('scatter plot vector 1 vs vector 2')"
   ]
  },
  {
   "cell_type": "markdown",
   "metadata": {},
   "source": [
    "## Problem 5d\n",
    "The scatter plot form part c is good for investigating dependencies, but it is often hard to judge the density of the data, i.e. how much of our data is at a particular x-y range. To see this more clearly we can make a 2D histogram plot, where color corresponding to a 2D bin changes based on the number of counts in it.\n",
    "\n",
    "Make a 2D histogram of your 2D matrix from part a."
   ]
  },
  {
   "cell_type": "code",
   "execution_count": 25,
   "metadata": {},
   "outputs": [
    {
     "data": {
      "text/plain": [
       "(array([ 1.,  0.,  0.,  0.,  2.,  0.,  1.,  2.,  2.,  1.,  2.,  4.,  2.,\n",
       "         3.,  2.,  2.,  5.,  5.,  4.,  9.,  7.,  6., 15.,  8.,  7., 13.,\n",
       "        16., 15., 13., 14., 13., 15.,  6., 11., 14., 13., 17., 23., 15.,\n",
       "        19., 28., 18., 26., 24., 21., 27., 30., 33., 29., 24., 24., 25.,\n",
       "        31., 18., 22., 15., 19., 23., 25., 13., 19., 21., 10., 15., 11.,\n",
       "        18.,  8., 10., 10., 15., 10., 11., 13.,  2.,  4.,  6.,  7.,  3.,\n",
       "         4.,  3.,  1.,  3.,  1.,  2.,  1.,  2.,  1.,  0.,  0.,  1.,  0.,\n",
       "         3.,  1.,  0.,  1.,  0.,  0.,  0.,  0.,  1.]),\n",
       " array([-2.98407121, -2.92101573, -2.85796025, -2.79490476, -2.73184928,\n",
       "        -2.6687938 , -2.60573832, -2.54268283, -2.47962735, -2.41657187,\n",
       "        -2.35351638, -2.2904609 , -2.22740542, -2.16434993, -2.10129445,\n",
       "        -2.03823897, -1.97518349, -1.912128  , -1.84907252, -1.78601704,\n",
       "        -1.72296155, -1.65990607, -1.59685059, -1.5337951 , -1.47073962,\n",
       "        -1.40768414, -1.34462866, -1.28157317, -1.21851769, -1.15546221,\n",
       "        -1.09240672, -1.02935124, -0.96629576, -0.90324027, -0.84018479,\n",
       "        -0.77712931, -0.71407383, -0.65101834, -0.58796286, -0.52490738,\n",
       "        -0.46185189, -0.39879641, -0.33574093, -0.27268544, -0.20962996,\n",
       "        -0.14657448, -0.083519  , -0.02046351,  0.04259197,  0.10564745,\n",
       "         0.16870294,  0.23175842,  0.2948139 ,  0.35786939,  0.42092487,\n",
       "         0.48398035,  0.54703583,  0.61009132,  0.6731468 ,  0.73620228,\n",
       "         0.79925777,  0.86231325,  0.92536873,  0.98842422,  1.0514797 ,\n",
       "         1.11453518,  1.17759066,  1.24064615,  1.30370163,  1.36675711,\n",
       "         1.4298126 ,  1.49286808,  1.55592356,  1.61897905,  1.68203453,\n",
       "         1.74509001,  1.8081455 ,  1.87120098,  1.93425646,  1.99731194,\n",
       "         2.06036743,  2.12342291,  2.18647839,  2.24953388,  2.31258936,\n",
       "         2.37564484,  2.43870033,  2.50175581,  2.56481129,  2.62786677,\n",
       "         2.69092226,  2.75397774,  2.81703322,  2.88008871,  2.94314419,\n",
       "         3.00619967,  3.06925516,  3.13231064,  3.19536612,  3.2584216 ,\n",
       "         3.32147709]),\n",
       " <a list of 100 Patch objects>)"
      ]
     },
     "execution_count": 25,
     "metadata": {},
     "output_type": "execute_result"
    },
    {
     "data": {
      "image/png": "[encoded data removed]",
      "text/plain": [
       "<Figure size 432x288 with 1 Axes>"
      ]
     },
     "metadata": {
      "needs_background": "light"
     },
     "output_type": "display_data"
    }
   ],
   "source": [
    "#i think this means that the two histograms should overlap. I did this accidentally in part a.\n",
    "dubhist = mpl.figure()\n",
    "axi = dubhist.add_axes([0.1,0.1,0.8,0.8])\n",
    "axi.set_xlabel('element avlue')\n",
    "axi.set_ylabel('count')\n",
    "axi.set_title('Two histograms from 5a overlapping')\n",
    "axi.hist(vec1,bins=100)\n",
    "axi.hist(vec2,bins=100)\n"
   ]
  },
  {
   "cell_type": "markdown",
   "metadata": {},
   "source": [
    "## Problem 6\n",
    "\n",
    "Using *linspace* Generate 100 equally spaced points from 0 to 1. Then plot the cube of the values generated from *linespace* vs the *linspace* generated values."
   ]
  },
  {
   "cell_type": "code",
   "execution_count": 19,
   "metadata": {},
   "outputs": [
    {
     "name": "stdout",
     "output_type": "stream",
     "text": [
      "[0.         0.01010101 0.02020202 0.03030303 0.04040404 0.05050505\n",
      " 0.06060606 0.07070707 0.08080808 0.09090909 0.1010101  0.11111111\n",
      " 0.12121212 0.13131313 0.14141414 0.15151515 0.16161616 0.17171717\n",
      " 0.18181818 0.19191919 0.2020202  0.21212121 0.22222222 0.23232323\n",
      " 0.24242424 0.25252525 0.26262626 0.27272727 0.28282828 0.29292929\n",
      " 0.3030303  0.31313131 0.32323232 0.33333333 0.34343434 0.35353535\n",
      " 0.36363636 0.37373737 0.38383838 0.39393939 0.4040404  0.41414141\n",
      " 0.42424242 0.43434343 0.44444444 0.45454545 0.46464646 0.47474747\n",
      " 0.48484848 0.49494949 0.50505051 0.51515152 0.52525253 0.53535354\n",
      " 0.54545455 0.55555556 0.56565657 0.57575758 0.58585859 0.5959596\n",
      " 0.60606061 0.61616162 0.62626263 0.63636364 0.64646465 0.65656566\n",
      " 0.66666667 0.67676768 0.68686869 0.6969697  0.70707071 0.71717172\n",
      " 0.72727273 0.73737374 0.74747475 0.75757576 0.76767677 0.77777778\n",
      " 0.78787879 0.7979798  0.80808081 0.81818182 0.82828283 0.83838384\n",
      " 0.84848485 0.85858586 0.86868687 0.87878788 0.88888889 0.8989899\n",
      " 0.90909091 0.91919192 0.92929293 0.93939394 0.94949495 0.95959596\n",
      " 0.96969697 0.97979798 0.98989899 1.        ]\n"
     ]
    }
   ],
   "source": [
    "inputs=np.linspace(0,1,100)\n",
    "print(inputs)"
   ]
  },
  {
   "cell_type": "code",
   "execution_count": 20,
   "metadata": {
    "scrolled": true
   },
   "outputs": [],
   "source": [
    "cubed=inputs**3"
   ]
  },
  {
   "cell_type": "code",
   "execution_count": 21,
   "metadata": {},
   "outputs": [
    {
     "data": {
      "image/png": "[encoded data removed]",
      "text/plain": [
       "<Figure size 432x288 with 1 Axes>"
      ]
     },
     "metadata": {
      "needs_background": "light"
     },
     "output_type": "display_data"
    }
   ],
   "source": [
    "mpl.plot(inputs, cubed, label = \"linspace cubed\")\n",
    "mpl.xlabel('output')\n",
    "mpl.ylabel('output cubed')\n",
    "mpl.title('linspace of n cubed vs v linspace')\n",
    "mpl.legend()\n",
    "mpl.show()"
   ]
  },
  {
   "cell_type": "code",
   "execution_count": null,
   "metadata": {},
   "outputs": [],
   "source": []
  }
 ],
 "metadata": {
  "kernelspec": {
   "display_name": "Python 3",
   "language": "python",
   "name": "python3"
  },
  "language_info": {
   "codemirror_mode": {
    "name": "ipython",
    "version": 3
   },
   "file_extension": ".py",
   "mimetype": "text/x-python",
   "name": "python",
   "nbconvert_exporter": "python",
   "pygments_lexer": "ipython3",
   "version": "3.7.4"
  }
 },
 "nbformat": 4,
 "nbformat_minor": 4
}

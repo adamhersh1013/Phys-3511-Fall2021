{
 "cells": [
  {
   "cell_type": "markdown",
   "metadata": {},
   "source": [
    "# Projectile Motion Assignment: Due 9/24\n",
    "\n",
    "## 2D Projectile Motion with Quadratic Drag \n",
    "\n",
    "Quadratic drag term is given by $\\vec{f}_{drag} = -cv\\vec{v}$. This leads to equations of motion in the horizontal ($x$) and vertical ($y$) directions given by \n",
    "\n",
    "* $m v_{x}' = -\\left(c\\sqrt{v^2_x +v^2_y}\\right)v_x$\n",
    "\n",
    "* $m v_{y}' = - mg - \\left(c\\sqrt{v^2x + v^2_y}) \\right)v_y$\n",
    "\n",
    "* $x' = v_x$\n",
    "\n",
    "* $y' = v_y$\n",
    "\n",
    ",where $'$ is a time derivative.\n",
    "\n",
    "You can read more about drag forces here: https://openstax.org/books/university-physics-volume-1/pages/6-4-drag-force-and-terminal-speed"
   ]
  },
  {
   "cell_type": "markdown",
   "metadata": {},
   "source": [
    "## Problem\n",
    "\n",
    "To get an accurate trajectory for a projectile one must often take account of several complications. For example, if a projectile goes very high then we have to allow for the reduction in air resistance as atmospheric density decreases. To illustrate this, consider an iron cannonball (diameter, $D = 15\\;cm$, density $\\rho = 7.8\\;g/cm^3$) that is fired with initial velocity $300 m/s$ at 50 degrees above the horizontal. The drag force is approximately quadratic, but since the drag is proportional to the atmospheric density and the density falls off exponentially with height, the drag force is $f = c(y) v^2$ where $c(y) = \\gamma D^2 exp(-y/\\lambda)$ with $\\gamma$ given as $0.25\\;N\\cdot s^2/m^4$ and $\\lambda = 10,000\\;m$. "
   ]
  },
  {
   "cell_type": "markdown",
   "metadata": {},
   "source": [
    "# Part a)\n",
    "\n",
    "Ignoring air resistance completely, write down the equations of motion for the cannonball (use the markup feature in Jupyter notbook and latex (https://en.wikibooks.org/wiki/LaTeX/Mathematics)) "
   ]
  },
  {
   "cell_type": "markdown",
   "metadata": {},
   "source": []
  },
  {
   "cell_type": "markdown",
   "metadata": {},
   "source": [
    "Code the equations into a function "
   ]
  },
  {
   "cell_type": "code",
   "execution_count": 283,
   "metadata": {},
   "outputs": [],
   "source": [
    "#define projectile motion function in vaccum\n",
    "#def proj_vac\n",
    "import matplotlib.pyplot as mpl\n",
    "import numpy as np\n",
    "from scipy import integrate\n",
    "import scipy as sci\n",
    "import math\n",
    "vo=300\n",
    "angle=50\n",
    "g=-10\n",
    "mass=7.8*((4/3) * np.pi * (15/2)**3)/1000\n",
    "# define function for velocity without drag\n",
    "initialv=[0,0,vo*math.cos(angle*math.pi/180),vo*math.sin(angle*math.pi/180)]\n",
    "def proj_vac(time, vals):\n",
    "    x,y,vx,vy = vals\n",
    "    xdot = vx\n",
    "    ydot = vy\n",
    "    vxdot =0\n",
    "    vydot= mass*g\n",
    "    return np.array([xdot,ydot,vxdot,vydot])"
   ]
  },
  {
   "cell_type": "markdown",
   "metadata": {},
   "source": [
    "Using Scipy (*RK4(5)* method) solve numerically $x(t)$ and $y(t)$ for $0 \\le t \\le 3.5\\;s$"
   ]
  },
  {
   "cell_type": "code",
   "execution_count": 295,
   "metadata": {
    "scrolled": false
   },
   "outputs": [
    {
     "name": "stdout",
     "output_type": "stream",
     "text": [
      "9527 9527\n",
      "[0.         0.08043427 0.16085164 ... 0.18935575 0.10894436 0.02851608]\n",
      "642.9997508118497 x at 3.5s\n",
      "0.028516082824069144 y at 3.5s\n"
     ]
    }
   ],
   "source": [
    "#code\n",
    "\n",
    "sol= integrate.solve_ivp(proj_vac,(0,3.5),initialv, method='RK45',t_eval =np.linspace(0,3.5,10000) )\n",
    "\n",
    "xt= []\n",
    "yt=sol.y[1][sol.y[1]>=0]\n",
    "for i in range(len(yt)):\n",
    "    xt.insert(i,sol.y[0][i])\n",
    "print(len(yt),len(xt))\n",
    "print(yt)\n",
    "print(xt[-1],\"x at 3.5s\")\n",
    "print(yt[-1],\"y at 3.5s\")"
   ]
  },
  {
   "cell_type": "markdown",
   "metadata": {},
   "source": [
    "Plot the ball's trajectory (vertical vs. horizontal positions) and find it's horizontal range"
   ]
  },
  {
   "cell_type": "code",
   "execution_count": 299,
   "metadata": {},
   "outputs": [
    {
     "name": "stdout",
     "output_type": "stream",
     "text": [
      "range in x 642.9997508118497 m\n"
     ]
    },
    {
     "data": {
      "image/png": "[encoded data removed]",
      "text/plain": [
       "<Figure size 432x288 with 1 Axes>"
      ]
     },
     "metadata": {
      "needs_background": "light"
     },
     "output_type": "display_data"
    }
   ],
   "source": [
    "#codes\n",
    "\n",
    "\n",
    "fig = mpl.figure(\"tragectory\")\n",
    "ax = fig.add_axes([0.8,0.8,0.8,0.8])\n",
    "ax.plot(xt,yt, label=\"Tragectory of projectile\")\n",
    "ax.legend(loc='best')\n",
    "ax.set_xlabel(\"x position\")\n",
    "ax.set_ylabel('y position')\n",
    "ax.grid();\n",
    "\n",
    "# horizontal range is last value in xrk45\n",
    "print(\"range in x\",xt[-1],'m')"
   ]
  },
  {
   "cell_type": "markdown",
   "metadata": {},
   "source": [
    "# Part b)\n",
    "\n",
    "Write your own Runge-Kutta order 4 function and use it to solve Part a) [Meaning do not use Scipy for this part]."
   ]
  },
  {
   "cell_type": "code",
   "execution_count": 309,
   "metadata": {},
   "outputs": [
    {
     "data": {
      "text/plain": [
       "array([[   0.        ,    0.        ,  192.83628291,  229.81333294],\n",
       "       [   6.81744435,    8.03857422,  192.83628291,  224.94029433],\n",
       "       [  13.63488869,   15.9048693 ,  192.83628291,  220.06725573],\n",
       "       [  20.45233304,   23.59888523,  192.83628291,  215.19421712],\n",
       "       [  27.26977738,   31.12062202,  192.83628291,  210.32117852],\n",
       "       [  34.08722173,   38.47007967,  192.83628291,  205.44813991],\n",
       "       [  40.90466607,   45.64725818,  192.83628291,  200.57510131],\n",
       "       [  47.72211042,   52.65215754,  192.83628291,  195.7020627 ],\n",
       "       [  54.53955476,   59.48477776,  192.83628291,  190.8290241 ],\n",
       "       [  61.35699911,   66.14511884,  192.83628291,  185.95598549],\n",
       "       [  68.17444345,   72.63318078,  192.83628291,  181.08294689],\n",
       "       [  74.9918878 ,   78.94896357,  192.83628291,  176.20990828],\n",
       "       [  81.80933214,   85.09246722,  192.83628291,  171.33686968],\n",
       "       [  88.62677649,   91.06369173,  192.83628291,  166.46383107],\n",
       "       [  95.44422083,   96.8626371 ,  192.83628291,  161.59079247],\n",
       "       [ 102.26166518,  102.48930332,  192.83628291,  156.71775386],\n",
       "       [ 109.07910952,  107.9436904 ,  192.83628291,  151.84471526],\n",
       "       [ 115.89655387,  113.22579834,  192.83628291,  146.97167666],\n",
       "       [ 122.71399821,  118.33562713,  192.83628291,  142.09863805],\n",
       "       [ 129.53144256,  123.27317678,  192.83628291,  137.22559945],\n",
       "       [ 136.3488869 ,  128.03844729,  192.83628291,  132.35256084],\n",
       "       [ 143.16633125,  132.63143866,  192.83628291,  127.47952224],\n",
       "       [ 149.98377559,  137.05215089,  192.83628291,  122.60648363],\n",
       "       [ 156.80121994,  141.30058397,  192.83628291,  117.73344503],\n",
       "       [ 163.61866428,  145.37673791,  192.83628291,  112.86040642],\n",
       "       [ 170.43610863,  149.28061271,  192.83628291,  107.98736782],\n",
       "       [ 177.25355297,  153.01220836,  192.83628291,  103.11432921],\n",
       "       [ 184.07099732,  156.57152487,  192.83628291,   98.24129061],\n",
       "       [ 190.88844166,  159.95856224,  192.83628291,   93.368252  ],\n",
       "       [ 197.70588601,  163.17332047,  192.83628291,   88.4952134 ],\n",
       "       [ 204.52333035,  166.21579955,  192.83628291,   83.62217479],\n",
       "       [ 211.3407747 ,  169.0859995 ,  192.83628291,   78.74913619],\n",
       "       [ 218.15821905,  171.78392029,  192.83628291,   73.87609758],\n",
       "       [ 224.97566339,  174.30956195,  192.83628291,   69.00305898],\n",
       "       [ 231.79310774,  176.66292446,  192.83628291,   64.13002038],\n",
       "       [ 238.61055208,  178.84400784,  192.83628291,   59.25698177],\n",
       "       [ 245.42799643,  180.85281206,  192.83628291,   54.38394317],\n",
       "       [ 252.24544077,  182.68933715,  192.83628291,   49.51090456],\n",
       "       [ 259.06288512,  184.35358309,  192.83628291,   44.63786596],\n",
       "       [ 265.88032946,  185.8455499 ,  192.83628291,   39.76482735],\n",
       "       [ 272.69777381,  187.16523755,  192.83628291,   34.89178875],\n",
       "       [ 279.51521815,  188.31264607,  192.83628291,   30.01875014],\n",
       "       [ 286.3326625 ,  189.28777544,  192.83628291,   25.14571154],\n",
       "       [ 293.15010684,  190.09062567,  192.83628291,   20.27267293],\n",
       "       [ 299.96755119,  190.72119676,  192.83628291,   15.39963433],\n",
       "       [ 306.78499553,  191.17948871,  192.83628291,   10.52659572],\n",
       "       [ 313.60243988,  191.46550151,  192.83628291,    5.65355712],\n",
       "       [ 320.41988422,  191.57923517,  192.83628291,    0.78051851],\n",
       "       [ 327.23732857,  191.52068969,  192.83628291,   -4.09252009],\n",
       "       [ 334.05477291,  191.28986506,  192.83628291,   -8.9655587 ],\n",
       "       [ 340.87221726,  190.88676129,  192.83628291,  -13.8385973 ],\n",
       "       [ 347.6896616 ,  190.31137838,  192.83628291,  -18.7116359 ],\n",
       "       [ 354.50710595,  189.56371633,  192.83628291,  -23.58467451],\n",
       "       [ 361.32455029,  188.64377514,  192.83628291,  -28.45771311],\n",
       "       [ 368.14199464,  187.5515548 ,  192.83628291,  -33.33075172],\n",
       "       [ 374.95943898,  186.28705532,  192.83628291,  -38.20379032],\n",
       "       [ 381.77688333,  184.85027669,  192.83628291,  -43.07682893],\n",
       "       [ 388.59432767,  183.24121893,  192.83628291,  -47.94986753],\n",
       "       [ 395.41177202,  181.45988202,  192.83628291,  -52.82290614],\n",
       "       [ 402.22921636,  179.50626597,  192.83628291,  -57.69594474],\n",
       "       [ 409.04666071,  177.38037078,  192.83628291,  -62.56898335],\n",
       "       [ 415.86410505,  175.08219644,  192.83628291,  -67.44202195],\n",
       "       [ 422.6815494 ,  172.61174296,  192.83628291,  -72.31506056],\n",
       "       [ 429.49899375,  169.96901034,  192.83628291,  -77.18809916],\n",
       "       [ 436.31643809,  167.15399858,  192.83628291,  -82.06113777],\n",
       "       [ 443.13388244,  164.16670767,  192.83628291,  -86.93417637],\n",
       "       [ 449.95132678,  161.00713762,  192.83628291,  -91.80721498],\n",
       "       [ 456.76877113,  157.67528843,  192.83628291,  -96.68025358],\n",
       "       [ 463.58621547,  154.17116009,  192.83628291, -101.55329218],\n",
       "       [ 470.40365982,  150.49475262,  192.83628291, -106.42633079],\n",
       "       [ 477.22110416,  146.646066  ,  192.83628291, -111.29936939],\n",
       "       [ 484.03854851,  142.62510024,  192.83628291, -116.172408  ],\n",
       "       [ 490.85599285,  138.43185533,  192.83628291, -121.0454466 ],\n",
       "       [ 497.6734372 ,  134.06633128,  192.83628291, -125.91848521],\n",
       "       [ 504.49088154,  129.52852809,  192.83628291, -130.79152381],\n",
       "       [ 511.30832589,  124.81844576,  192.83628291, -135.66456242],\n",
       "       [ 518.12577023,  119.93608429,  192.83628291, -140.53760102],\n",
       "       [ 524.94321458,  114.88144367,  192.83628291, -145.41063963],\n",
       "       [ 531.76065892,  109.65452391,  192.83628291, -150.28367823],\n",
       "       [ 538.57810327,  104.25532501,  192.83628291, -155.15671684],\n",
       "       [ 545.39554761,   98.68384696,  192.83628291, -160.02975544],\n",
       "       [ 552.21299196,   92.94008977,  192.83628291, -164.90279405],\n",
       "       [ 559.0304363 ,   87.02405344,  192.83628291, -169.77583265],\n",
       "       [ 565.84788065,   80.93573797,  192.83628291, -174.64887126],\n",
       "       [ 572.66532499,   74.67514335,  192.83628291, -179.52190986],\n",
       "       [ 579.48276934,   68.2422696 ,  192.83628291, -184.39494847],\n",
       "       [ 586.30021368,   61.63711669,  192.83628291, -189.26798707],\n",
       "       [ 593.11765803,   54.85968465,  192.83628291, -194.14102567],\n",
       "       [ 599.93510237,   47.90997347,  192.83628291, -199.01406428],\n",
       "       [ 606.75254672,   40.78798314,  192.83628291, -203.88710288],\n",
       "       [ 613.56999106,   33.49371367,  192.83628291, -208.76014149],\n",
       "       [ 620.38743541,   26.02716505,  192.83628291, -213.63318009],\n",
       "       [ 627.20487975,   18.3883373 ,  192.83628291, -218.5062187 ],\n",
       "       [ 634.0223241 ,   10.5772304 ,  192.83628291, -223.3792573 ],\n",
       "       [ 640.83976845,    2.59384435,  192.83628291, -228.25229591],\n",
       "       [ 647.65721279,   -5.56182083,  192.83628291, -233.12533451],\n",
       "       [ 654.47465714,  -13.88976516,  192.83628291, -237.99837312],\n",
       "       [ 661.29210148,  -22.38998863,  192.83628291, -242.87141172],\n",
       "       [ 668.10954583,  -31.06249124,  192.83628291, -247.74445033],\n",
       "       [ 674.92699017,  -39.90727299,  192.83628291, -252.61748893]])"
      ]
     },
     "execution_count": 309,
     "metadata": {},
     "output_type": "execute_result"
    }
   ],
   "source": [
    "#codes\n",
    "def customrk4(condition,tmin,tmax,counts):\n",
    "    tarr=np.linspace(tmin,tmax,counts)\n",
    "    x = np.zeros((len(tarr),len(condition)))\n",
    "    x[0] = condition\n",
    "    for i in range(len(tarr)-1):\n",
    "        k1=proj_vac((tarr[i+1]-tarr[i]),x[i]) \n",
    "        k2 =proj_vac(tarr[i]+(tarr[i+1]-tarr[i])/2.0, x[i] + ((tarr[i+1]-tarr[i])/2.0) *k1)\n",
    "        k3 = proj_vac(tarr[i]+(tarr[i+1]-tarr[i])/2.0, x[i] + ((tarr[i+1]-tarr[i])/2.0)*k2 )\n",
    "        k4 = proj_vac(tarr[i]+(tarr[i+1]-tarr[i]), x[i] + (tarr[i+1]-tarr[i])*k3)\n",
    "        x[i+1] = x[i] + (tarr[i+1]-tarr[i])/6*(k1 + (2*k2) + (2*k3) + k4)\n",
    "    return x\n",
    "customrk4(initialv,0,3.5,100) \n",
    "\n",
    "#looking at the data below, the last positve y value gives an x range of 640m, roughly 2m off of scipy's code."
   ]
  },
  {
   "cell_type": "markdown",
   "metadata": {},
   "source": [
    "How does your Runge-Kutta 4th order evaluation compare to Scipy's *RK4(5)* method?"
   ]
  },
  {
   "cell_type": "markdown",
   "metadata": {},
   "source": [
    "# Part c)\n",
    "\n",
    "Now include air resistance, but ignore the variation of atmospheric pressure [that is  treat $c(y)$ as a constant  that does not change with position, where $c = \\gamma D^2$].\n",
    "\n",
    "Write down the equations of motion (use the markup feature in Jupyter notbook and latex)"
   ]
  },
  {
   "cell_type": "markdown",
   "metadata": {},
   "source": []
  },
  {
   "cell_type": "markdown",
   "metadata": {},
   "source": [
    "Code the equations into a function"
   ]
  },
  {
   "cell_type": "code",
   "execution_count": 260,
   "metadata": {},
   "outputs": [],
   "source": [
    "drag = lambda y, magv: (0.25 * (15**2)/(100**2) * np.exp(-y / 10000))*magv**2\n",
    "dragx = lambda magv: ((0.25 * (15**2))/(100**2))*magv**2\n",
    "def proj_drag(tim, valss):\n",
    "    x, y, vxdrag, vydrag = valss\n",
    "    xdot = vxdrag \n",
    "    ydot = vydrag\n",
    "    vxdot = -dragx(xdot)\n",
    "    vydot = -mass* 9.8 - dragx(ydot)\n",
    "    if y < 0:\n",
    "        return np.zeros(4)\n",
    "    return np.array([xdot, ydot, vxdot, vydot])"
   ]
  },
  {
   "cell_type": "code",
   "execution_count": 266,
   "metadata": {},
   "outputs": [],
   "source": [
    "#code\n",
    "solvedv= integrate.solve_ivp(proj_drag,(0,3.5),initialv, method='RK45',t_eval = np.linspace(0,3.5,1000))\n",
    "\n",
    "xt_drag=[]\n",
    "yt_drag=solvedv.y[1][solvedv.y[1]>=0]\n",
    "for i in range(len(yt_drag)):\n",
    "    xt_drag.insert(i,solvedv.y[0][i])\n",
    "    \n",
    "#print(xt_drag)\n",
    "#print(yt_drag)"
   ]
  },
  {
   "cell_type": "code",
   "execution_count": 249,
   "metadata": {},
   "outputs": [],
   "source": [
    "#codes\n"
   ]
  },
  {
   "cell_type": "markdown",
   "metadata": {},
   "source": [
    "Plot the ball's trajecory and find it's horizontal range"
   ]
  },
  {
   "cell_type": "code",
   "execution_count": 267,
   "metadata": {},
   "outputs": [
    {
     "name": "stdout",
     "output_type": "stream",
     "text": [
      "horizontal range = 219.27524794316693 m\n"
     ]
    },
    {
     "data": {
      "image/png": "[encoded data removed]",
      "text/plain": [
       "<Figure size 432x288 with 1 Axes>"
      ]
     },
     "metadata": {
      "needs_background": "light"
     },
     "output_type": "display_data"
    }
   ],
   "source": [
    "#codes\n",
    "fig2 = mpl.figure(\"tragectory\")\n",
    "axeses = fig2.add_axes([0.8,0.8,0.8,0.8])\n",
    "axeses.plot(xt_drag,yt_drag, label=\"Tragectory of projectile with drag\")\n",
    "axeses.set_xlabel(\"x position\")\n",
    "axeses.set_ylabel('y position')\n",
    "axeses.grid()\n",
    "print('horizontal range =', xt_drag[-1],'m')"
   ]
  },
  {
   "cell_type": "markdown",
   "metadata": {},
   "source": [
    "# Part d)\n",
    "\n",
    "Now include the drag term with the atmospheric variation included [meaning $c(y) = \\gamma D^2exp(-y/\\lambda)$]\n",
    "\n",
    "Write down the equations of motion (use the markup feature in Jupyter notbook and latex)"
   ]
  },
  {
   "cell_type": "markdown",
   "metadata": {},
   "source": []
  },
  {
   "cell_type": "markdown",
   "metadata": {},
   "source": [
    "Code the equations into a function"
   ]
  },
  {
   "cell_type": "code",
   "execution_count": 270,
   "metadata": {},
   "outputs": [],
   "source": [
    "#code\n",
    "def proj_drag2(t, vals):\n",
    "    x,y,vx2,vy2 = vals\n",
    "    xdot = vx2\n",
    "    ydot = vy2\n",
    "    vxdot = - drag(x,vx2)\n",
    "    vydot = -mass * 9.8 - drag(y,vy2)\n",
    "    if y<0:\n",
    "        return np.zeros(4)\n",
    "    return np.array([xdot,ydot,vxdot,vydot])"
   ]
  },
  {
   "cell_type": "markdown",
   "metadata": {},
   "source": [
    "Use Scipy (*RK4(5)* method) to solve numerically $x(t)$ and $y(t)$ for $0\\le t \\le 3.5\\;s$"
   ]
  },
  {
   "cell_type": "code",
   "execution_count": 276,
   "metadata": {},
   "outputs": [
    {
     "name": "stdout",
     "output_type": "stream",
     "text": [
      "[0.         0.08041624 0.16077959 ... 0.16624728 0.08586958 0.00543895]\n"
     ]
    }
   ],
   "source": [
    "#codes\n",
    "solvedv2= integrate.solve_ivp(proj_drag2,(0,3.5),initialv, method='RK45',t_eval = np.linspace(0,3.5,10000))\n",
    "\n",
    "xtd2= []\n",
    "ytd2=solvedv2.y[1][solvedv2.y[1]>=0]\n",
    "for i in range(len(ytd2)):\n",
    "    xtd2.insert(i,solvedv2.y[0][i])\n",
    "print(ytd2)"
   ]
  },
  {
   "cell_type": "markdown",
   "metadata": {
    "slideshow": {
     "slide_type": "slide"
    }
   },
   "source": [
    "Plot the ball's trajectory and find it's horizontal range"
   ]
  },
  {
   "cell_type": "code",
   "execution_count": 278,
   "metadata": {},
   "outputs": [
    {
     "name": "stdout",
     "output_type": "stream",
     "text": [
      "horizontal range = 220.24431265834718 m\n"
     ]
    },
    {
     "data": {
      "image/png": "[encoded data removed]",
      "text/plain": [
       "<Figure size 432x288 with 1 Axes>"
      ]
     },
     "metadata": {
      "needs_background": "light"
     },
     "output_type": "display_data"
    }
   ],
   "source": [
    "#codes\n",
    "fig3 = mpl.figure(\"tragectory\")\n",
    "axus = fig3.add_axes([0.8,0.8,0.8,0.8])\n",
    "axus.plot(xtd2,ytd2, label=\"Tragectory of projectile with drag as function of y\")\n",
    "axus.set_xlabel(\"x position\")\n",
    "axus.set_ylabel('y position')\n",
    "axus.grid()\n",
    "print('horizontal range =', xtd2[-1],'m')"
   ]
  },
  {
   "cell_type": "markdown",
   "metadata": {},
   "source": [
    "# Part e)\n",
    "\n",
    "Plot the trajectories from parts a), c), and d) on the same plot."
   ]
  },
  {
   "cell_type": "code",
   "execution_count": 300,
   "metadata": {},
   "outputs": [
    {
     "data": {
      "image/png": "[encoded data removed]",
      "text/plain": [
       "<Figure size 432x288 with 1 Axes>"
      ]
     },
     "metadata": {
      "needs_background": "light"
     },
     "output_type": "display_data"
    }
   ],
   "source": [
    "#codes\n",
    "fig4 = mpl.figure(\"tragectory\")\n",
    "axas = fig4.add_axes([0.8,0.8,0.8,0.8])\n",
    "axas.plot(xt,yt, label=\"Tragectory without resistance\")\n",
    "axas.plot(xt_drag,yt_drag, label=\"Tragectory with drag\")\n",
    "axas.plot(xtd2,ytd2, label=\"Tragectory with drag as function of y\")\n",
    "axas.set_xlabel(\"x position\")\n",
    "axas.set_ylabel('y position')\n",
    "axas.legend()\n",
    "axas.grid()\n",
    "#in the graph below, the green and orange lines overlap."
   ]
  },
  {
   "cell_type": "markdown",
   "metadata": {},
   "source": [
    "Which impacts the motion more: turning on air resistance (i.e with $c(0)$) or turning on the variation with atmosphere (i.e. $c(y)$)"
   ]
  },
  {
   "cell_type": "code",
   "execution_count": null,
   "metadata": {},
   "outputs": [],
   "source": [
    "#c(0) because the drag force is less at higher atmospheres using c(y)"
   ]
  },
  {
   "cell_type": "code",
   "execution_count": null,
   "metadata": {},
   "outputs": [],
   "source": []
  }
 ],
 "metadata": {
  "kernelspec": {
   "display_name": "Python 3",
   "language": "python",
   "name": "python3"
  },
  "language_info": {
   "codemirror_mode": {
    "name": "ipython",
    "version": 3
   },
   "file_extension": ".py",
   "mimetype": "text/x-python",
   "name": "python",
   "nbconvert_exporter": "python",
   "pygments_lexer": "ipython3",
   "version": "3.7.4"
  }
 },
 "nbformat": 4,
 "nbformat_minor": 4
}
